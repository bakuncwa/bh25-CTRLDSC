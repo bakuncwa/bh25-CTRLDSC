{
 "cells": [
  {
   "cell_type": "code",
   "execution_count": 2,
   "metadata": {},
   "outputs": [],
   "source": [
    "import numpy as np\n",
    "import pandas as pd\n",
    "import matplotlib.pyplot as plt\n",
    "from sklearn.model_selection import train_test_split\n",
    "from sklearn.preprocessing import MinMaxScaler, StandardScaler, OneHotEncoder\n",
    "from sklearn.linear_model import LogisticRegression\n",
    "from sklearn.metrics import accuracy_score, precision_score, recall_score, f1_score, confusion_matrix, ConfusionMatrixDisplay, classification_report\n",
    "from sklearn.compose import ColumnTransformer\n",
    "from sklearn.pipeline import Pipeline\n",
    "from catboost import CatBoostClassifier\n",
    "\n",
    "pd.set_option('display.max_columns', None)\n",
    "pd.set_option('display.max_rows', None)"
   ]
  },
  {
   "cell_type": "code",
   "execution_count": 3,
   "metadata": {},
   "outputs": [],
   "source": [
    "import math\n",
    "\n",
    "# Variable setting and value seeding\n",
    "np.random.seed(42)\n",
    "\n",
    "n_samples = 1500\n",
    "\n",
    "def gdm3_converter(ion):\n",
    "    ion_mol = ion / 1.0008\n",
    "    ion_conc = np.log(10) * ion_mol\n",
    "    return ion_conc\n",
    "\n",
    "# Rainfall (mm)\n",
    "rainfall = np.random.uniform(1, 101, n_samples)\n",
    "# Hydrogen (g dm-3)\n",
    "h_gdm3 = np.random.uniform(1e-14, 1e-1, n_samples)\n",
    "H = gdm3_converter(h_gdm3)\n",
    "# Zinc (g dm-3)\n",
    "zn_gdm3 = np.random.uniform(1e-14, 1e-1, n_samples)\n",
    "Zn = gdm3_converter(zn_gdm3)\n",
    "# Manganese (g dm-3)\n",
    "mn_gdm3 = np.random.uniform(1e-14, 1e-1, n_samples)\n",
    "Mn = gdm3_converter(mn_gdm3)\n",
    "# Iron (g dm-3)\n",
    "fe_gdm3 = np.random.uniform(1e-14, 1e-1, n_samples)\n",
    "Fe = gdm3_converter(fe_gdm3)\n",
    "# Copper (g dm-3)\n",
    "cu_gdm3 = np.random.uniform(1e-14, 1e-1, n_samples)\n",
    "Cu = gdm3_converter(cu_gdm3)\n",
    "# Phosphorus (g dm-3)\n",
    "p_gdm3 = np.random.uniform(1e-14, 1e-1, n_samples)\n",
    "P = gdm3_converter(p_gdm3)\n",
    "# Sodium (g dm-3)\n",
    "na_gdm3 = np.random.uniform(1e-14, 1e-1, n_samples)\n",
    "Na = gdm3_converter(na_gdm3)\n",
    "# Nitrogen (g dm-3)\n",
    "n_gdm3 = np.random.uniform(1e-14, 1e-1, n_samples)\n",
    "N = gdm3_converter(n_gdm3)"
   ]
  },
  {
   "cell_type": "code",
   "execution_count": 4,
   "metadata": {},
   "outputs": [],
   "source": [
    "# Noise generation\n",
    "noise = np.random.choice([0, 1], size=n_samples, p=[0.9, 0.1])"
   ]
  },
  {
   "cell_type": "code",
   "execution_count": 5,
   "metadata": {},
   "outputs": [],
   "source": [
    "# Define acidity as 'Low pH' or 'High pH' for acidic H+ concentraton\n",
    "acidity = np.where((H > 1e-8) & (H < 1e-2) | noise, 'High soil acidity', 'Low soil acidity')"
   ]
  },
  {
   "cell_type": "code",
   "execution_count": 6,
   "metadata": {},
   "outputs": [],
   "source": [
    "# Rainfall increase leading to increase in H+ dissociation/concentration\n",
    "for i in range(len(rainfall)-1):\n",
    "    rainfall_change = (rainfall[i] - rainfall[i+1]) * 100\n",
    "    if rainfall_change >= 10:\n",
    "        H[i+1] += 10e-9"
   ]
  },
  {
   "cell_type": "code",
   "execution_count": 7,
   "metadata": {},
   "outputs": [
    {
     "name": "stdout",
     "output_type": "stream",
     "text": [
      "    Rainfall         H        Zn        Mn        Fe        Cu         P  \\\n",
      "0  38.454012  0.119427  0.154772  0.137883  0.149147  0.124902  0.210191   \n",
      "1  96.071431  0.110248  0.183296  0.118191  0.039662  0.191628  0.120872   \n",
      "2  74.199394  0.005900  0.057626  0.066304  0.200716  0.028780  0.166783   \n",
      "3  60.865848  0.078512  0.143768  0.001487  0.141062  0.029860  0.100324   \n",
      "4  16.601864  0.087473  0.131544  0.114172  0.036169  0.128110  0.144955   \n",
      "\n",
      "         Na         N  pH Indicator  \n",
      "0  0.008571  0.150539             0  \n",
      "1  0.006062  0.018413             0  \n",
      "2  0.170054  0.055754             1  \n",
      "3  0.073166  0.178004             0  \n",
      "4  0.183208  0.121637             0  \n"
     ]
    }
   ],
   "source": [
    "pHIndicator = np.where(acidity == 'High soil acidity', 1, 0)\n",
    "\n",
    "data = pd.DataFrame({\n",
    "    'Rainfall': rainfall,\n",
    "    'H': H,\n",
    "    'Zn': Zn,\n",
    "    'Mn': Mn,\n",
    "    'Fe': Fe,\n",
    "    'Cu': Cu,\n",
    "    'P': P,\n",
    "    'Na': Na,\n",
    "    'N': N,\n",
    "    'pH Indicator': pHIndicator\n",
    "})\n",
    "\n",
    "print(data.head())"
   ]
  },
  {
   "cell_type": "code",
   "execution_count": 8,
   "metadata": {},
   "outputs": [
    {
     "name": "stdout",
     "output_type": "stream",
     "text": [
      "Training set size: 1200 samples\n",
      "Testing set size: 300 samples\n",
      "pH Indicator\n",
      "0    1041\n",
      "1     159\n",
      "Name: count, dtype: int64\n",
      "pH Indicator\n",
      "0    254\n",
      "1     46\n",
      "Name: count, dtype: int64\n"
     ]
    },
    {
     "data": {
      "application/vnd.jupyter.widget-view+json": {
       "model_id": "7cfcc5e5dde5458d9340726d123c90ae",
       "version_major": 2,
       "version_minor": 0
      },
      "text/plain": [
       "MetricVisualizer(layout=Layout(align_self='stretch', height='500px'))"
      ]
     },
     "metadata": {},
     "output_type": "display_data"
    },
    {
     "name": "stdout",
     "output_type": "stream",
     "text": [
      "0:\tlearn: 0.4930233\ttest: 0.3793103\tbest: 0.3793103 (0)\ttotal: 181ms\tremaining: 3m\n",
      "100:\tlearn: 0.7578125\ttest: 0.4838710\tbest: 0.4838710 (1)\ttotal: 659ms\tremaining: 5.87s\n",
      "200:\tlearn: 0.9840256\ttest: 0.4918033\tbest: 0.4918033 (140)\ttotal: 1.14s\tremaining: 4.51s\n",
      "300:\tlearn: 1.0000000\ttest: 0.4918033\tbest: 0.4918033 (140)\ttotal: 1.55s\tremaining: 3.6s\n",
      "400:\tlearn: 1.0000000\ttest: 0.4918033\tbest: 0.4918033 (140)\ttotal: 1.92s\tremaining: 2.87s\n",
      "500:\tlearn: 1.0000000\ttest: 0.4838710\tbest: 0.4918033 (140)\ttotal: 2.3s\tremaining: 2.29s\n",
      "600:\tlearn: 1.0000000\ttest: 0.4838710\tbest: 0.4918033 (140)\ttotal: 2.66s\tremaining: 1.76s\n",
      "700:\tlearn: 1.0000000\ttest: 0.4761905\tbest: 0.4918033 (140)\ttotal: 3.11s\tremaining: 1.33s\n",
      "800:\tlearn: 1.0000000\ttest: 0.4838710\tbest: 0.4918033 (140)\ttotal: 3.5s\tremaining: 870ms\n",
      "900:\tlearn: 1.0000000\ttest: 0.4761905\tbest: 0.4918033 (140)\ttotal: 3.89s\tremaining: 427ms\n",
      "999:\tlearn: 1.0000000\ttest: 0.4761905\tbest: 0.4918033 (140)\ttotal: 4.25s\tremaining: 0us\n",
      "\n",
      "bestTest = 0.4918032787\n",
      "bestIteration = 140\n",
      "\n",
      "Shrink model to first 141 iterations.\n"
     ]
    }
   ],
   "source": [
    "# Train model\n",
    "\n",
    "target_col = 'pH Indicator'\n",
    "\n",
    "X = data.loc[:, data.columns != target_col]\n",
    "y = data.loc[:, target_col]\n",
    "\n",
    "X_train, X_test, y_train, y_test = train_test_split(X, y, test_size=0.2, random_state=42)\n",
    "\n",
    "print(f'Training set size: {X_train.shape[0]} samples')\n",
    "print(f'Testing set size: {X_test.shape[0]} samples')\n",
    "\n",
    "X_train.head()\n",
    "\n",
    "y_train.head()\n",
    "\n",
    "features = list(X_train.columns)\n",
    "\n",
    "print(y_train.value_counts())\n",
    "print(y_test.value_counts())\n",
    "\n",
    "model = CatBoostClassifier(iterations=1000, depth=6, learning_rate=0.1, verbose = 100, eval_metric='F1')\n",
    "\n",
    "model.fit(X_train, y_train, plot=True, eval_set=(X_test, y_test))\n",
    "\n",
    "y_pred = model.predict(X_test)"
   ]
  },
  {
   "cell_type": "code",
   "execution_count": 9,
   "metadata": {},
   "outputs": [
    {
     "name": "stdout",
     "output_type": "stream",
     "text": [
      "Predictions: [0 0 0 0 0 0 0 1 0 0 0 0 1 0 0 0 0 0 0 0 0 0 0 0 0 0 0 0 0 0 0 0 0 0 0 0 0\n",
      " 0 0 1 0 0 0 0 0 0 0 0 0 0 0 0 0 0 0 0 0 0 0 0 0 0 0 0 0 0 0 0 0 0 0 0 0 0\n",
      " 0 1 0 0 0 0 0 0 0 0 0 0 0 0 0 0 0 0 0 1 0 0 0 0 0 0]\n",
      "Accuracy: 0.8967\n",
      "F1: 0.4918\n",
      "Precision: 1.0000\n",
      "Recall: 0.3261\n",
      "\n",
      "Classification Report:\n",
      "              precision    recall  f1-score   support\n",
      "\n",
      "           0       0.89      1.00      0.94       254\n",
      "           1       1.00      0.33      0.49        46\n",
      "\n",
      "    accuracy                           0.90       300\n",
      "   macro avg       0.95      0.66      0.72       300\n",
      "weighted avg       0.91      0.90      0.87       300\n",
      "\n"
     ]
    }
   ],
   "source": [
    "# Evaluate model\n",
    "print(f'Predictions: {y_pred[:100]}')\n",
    "\n",
    "print(f'Accuracy: {accuracy_score(y_test, y_pred):.4f}')\n",
    "print(f'F1: {f1_score(y_test, y_pred):.4f}')\n",
    "print(f'Precision: {precision_score(y_test, y_pred):.4f}')\n",
    "print(f'Recall: {recall_score(y_test, y_pred):.4f}')\n",
    "\n",
    "print(\"\\nClassification Report:\")\n",
    "print(classification_report(y_test, y_pred))"
   ]
  },
  {
   "cell_type": "code",
   "execution_count": 14,
   "metadata": {},
   "outputs": [
    {
     "name": "stdout",
     "output_type": "stream",
     "text": [
      "Model saved as soil_acidity_model_v3.bin\n"
     ]
    }
   ],
   "source": [
    "model.save_model(\"soil_acidity_model_v3.bin\")\n",
    "print(\"Model saved as soil_acidity_model_v3.bin\")"
   ]
  },
  {
   "cell_type": "code",
   "execution_count": 15,
   "metadata": {},
   "outputs": [],
   "source": [
    "# Load model to file path\n",
    "def load_model(file_path):\n",
    "    loaded_model = CatBoostClassifier()\n",
    "    loaded_model.load_model(file_path)  # Load model using CatBoost's method\n",
    "    print(f\"Model loaded from {file_path}\")\n",
    "    return loaded_model"
   ]
  },
  {
   "cell_type": "code",
   "execution_count": 16,
   "metadata": {},
   "outputs": [
    {
     "name": "stdout",
     "output_type": "stream",
     "text": [
      "Model loaded from soil_acidity_model_v3.bin\n"
     ]
    }
   ],
   "source": [
    "# Test loading the model\n",
    "loaded_model = load_model(\"soil_acidity_model_v3.bin\")"
   ]
  }
 ],
 "metadata": {
  "kernelspec": {
   "display_name": "Python 3",
   "language": "python",
   "name": "python3"
  },
  "language_info": {
   "codemirror_mode": {
    "name": "ipython",
    "version": 3
   },
   "file_extension": ".py",
   "mimetype": "text/x-python",
   "name": "python",
   "nbconvert_exporter": "python",
   "pygments_lexer": "ipython3",
   "version": "3.12.2"
  }
 },
 "nbformat": 4,
 "nbformat_minor": 2
}
